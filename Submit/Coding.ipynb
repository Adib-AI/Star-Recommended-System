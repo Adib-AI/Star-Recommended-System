{
 "cells": [
  {
   "cell_type": "markdown",
   "metadata": {},
   "source": [
    "# Data Preparation"
   ]
  },
  {
   "cell_type": "markdown",
   "metadata": {},
   "source": [
    "### EDA"
   ]
  },
  {
   "cell_type": "code",
   "execution_count": 1,
   "metadata": {},
   "outputs": [],
   "source": [
    "import pandas as pd\n",
    "import numpy as np"
   ]
  },
  {
   "cell_type": "code",
   "execution_count": 2,
   "metadata": {},
   "outputs": [],
   "source": [
    "os = 'G:\\Kumpulan Dataset\\Astronomi'\n",
    "\n",
    "star = pd.read_csv(os+'/map_object_list.csv')"
   ]
  },
  {
   "cell_type": "code",
   "execution_count": 3,
   "metadata": {},
   "outputs": [
    {
     "data": {
      "text/html": [
       "<div>\n",
       "<style scoped>\n",
       "    .dataframe tbody tr th:only-of-type {\n",
       "        vertical-align: middle;\n",
       "    }\n",
       "\n",
       "    .dataframe tbody tr th {\n",
       "        vertical-align: top;\n",
       "    }\n",
       "\n",
       "    .dataframe thead th {\n",
       "        text-align: right;\n",
       "    }\n",
       "</style>\n",
       "<table border=\"1\" class=\"dataframe\">\n",
       "  <thead>\n",
       "    <tr style=\"text-align: right;\">\n",
       "      <th></th>\n",
       "      <th>type</th>\n",
       "      <th>name</th>\n",
       "      <th>glon</th>\n",
       "      <th>glat</th>\n",
       "      <th>distance (parsecs)</th>\n",
       "      <th>x (parsecs)</th>\n",
       "      <th>y (parsecs)</th>\n",
       "      <th>z (parsecs)</th>\n",
       "      <th>radius (parsecs)</th>\n",
       "      <th>log10 age (years)</th>\n",
       "      <th>Arm (masers)</th>\n",
       "      <th>Source</th>\n",
       "    </tr>\n",
       "  </thead>\n",
       "  <tbody>\n",
       "    <tr>\n",
       "      <th>0</th>\n",
       "      <td>maser</td>\n",
       "      <td>G351.44+00.65</td>\n",
       "      <td>351.440000</td>\n",
       "      <td>0.650000</td>\n",
       "      <td>1329.000000</td>\n",
       "      <td>1314.111083</td>\n",
       "      <td>-197.802309</td>\n",
       "      <td>15.076703</td>\n",
       "      <td>NaN</td>\n",
       "      <td>NaN</td>\n",
       "      <td>Sgr</td>\n",
       "      <td>2019ApJ...874...94W</td>\n",
       "    </tr>\n",
       "    <tr>\n",
       "      <th>1</th>\n",
       "      <td>maser</td>\n",
       "      <td>G011.49-01.48</td>\n",
       "      <td>11.490000</td>\n",
       "      <td>-1.480000</td>\n",
       "      <td>1250.000000</td>\n",
       "      <td>1224.540716</td>\n",
       "      <td>248.913063</td>\n",
       "      <td>-32.285001</td>\n",
       "      <td>NaN</td>\n",
       "      <td>NaN</td>\n",
       "      <td>Sgr</td>\n",
       "      <td>2019ApJ...874...94W</td>\n",
       "    </tr>\n",
       "    <tr>\n",
       "      <th>2</th>\n",
       "      <td>maser</td>\n",
       "      <td>G014.33-00.64</td>\n",
       "      <td>14.330000</td>\n",
       "      <td>-0.640000</td>\n",
       "      <td>1119.000000</td>\n",
       "      <td>1084.116100</td>\n",
       "      <td>276.942332</td>\n",
       "      <td>-12.499090</td>\n",
       "      <td>NaN</td>\n",
       "      <td>NaN</td>\n",
       "      <td>Sgr</td>\n",
       "      <td>2019ApJ...874...94W</td>\n",
       "    </tr>\n",
       "    <tr>\n",
       "      <th>3</th>\n",
       "      <td>maser</td>\n",
       "      <td>G014.63-00.57</td>\n",
       "      <td>14.630000</td>\n",
       "      <td>-0.570000</td>\n",
       "      <td>1831.000000</td>\n",
       "      <td>1771.545918</td>\n",
       "      <td>462.443798</td>\n",
       "      <td>-18.215177</td>\n",
       "      <td>NaN</td>\n",
       "      <td>NaN</td>\n",
       "      <td>Sgr</td>\n",
       "      <td>2019ApJ...874...94W</td>\n",
       "    </tr>\n",
       "    <tr>\n",
       "      <th>4</th>\n",
       "      <td>maser</td>\n",
       "      <td>G015.03-00.67</td>\n",
       "      <td>15.030000</td>\n",
       "      <td>-0.670000</td>\n",
       "      <td>2004.000000</td>\n",
       "      <td>1935.311186</td>\n",
       "      <td>519.651302</td>\n",
       "      <td>-23.433653</td>\n",
       "      <td>NaN</td>\n",
       "      <td>NaN</td>\n",
       "      <td>Sgr</td>\n",
       "      <td>2019ApJ...874...94W</td>\n",
       "    </tr>\n",
       "    <tr>\n",
       "      <th>...</th>\n",
       "      <td>...</td>\n",
       "      <td>...</td>\n",
       "      <td>...</td>\n",
       "      <td>...</td>\n",
       "      <td>...</td>\n",
       "      <td>...</td>\n",
       "      <td>...</td>\n",
       "      <td>...</td>\n",
       "      <td>...</td>\n",
       "      <td>...</td>\n",
       "      <td>...</td>\n",
       "      <td>...</td>\n",
       "    </tr>\n",
       "    <tr>\n",
       "      <th>2552</th>\n",
       "      <td>ob association</td>\n",
       "      <td>SCO OB1</td>\n",
       "      <td>343.464464</td>\n",
       "      <td>1.389996</td>\n",
       "      <td>1529.261420</td>\n",
       "      <td>1466.016362</td>\n",
       "      <td>-435.243053</td>\n",
       "      <td>37.107179</td>\n",
       "      <td>NaN</td>\n",
       "      <td>NaN</td>\n",
       "      <td>NaN</td>\n",
       "      <td>1978ApJS...38..309H</td>\n",
       "    </tr>\n",
       "    <tr>\n",
       "      <th>2553</th>\n",
       "      <td>ob association</td>\n",
       "      <td>HD 156154</td>\n",
       "      <td>351.196497</td>\n",
       "      <td>1.369037</td>\n",
       "      <td>1489.704232</td>\n",
       "      <td>1472.154067</td>\n",
       "      <td>-227.993641</td>\n",
       "      <td>35.602076</td>\n",
       "      <td>NaN</td>\n",
       "      <td>NaN</td>\n",
       "      <td>NaN</td>\n",
       "      <td>1978ApJS...38..309H</td>\n",
       "    </tr>\n",
       "    <tr>\n",
       "      <th>2554</th>\n",
       "      <td>ob association</td>\n",
       "      <td>SCO OB4</td>\n",
       "      <td>352.465040</td>\n",
       "      <td>3.119684</td>\n",
       "      <td>1128.317216</td>\n",
       "      <td>1118.574236</td>\n",
       "      <td>-147.957489</td>\n",
       "      <td>61.496259</td>\n",
       "      <td>NaN</td>\n",
       "      <td>NaN</td>\n",
       "      <td>NaN</td>\n",
       "      <td>1978ApJS...38..309H</td>\n",
       "    </tr>\n",
       "    <tr>\n",
       "      <th>2555</th>\n",
       "      <td>ob association</td>\n",
       "      <td>R 105</td>\n",
       "      <td>332.997923</td>\n",
       "      <td>1.851210</td>\n",
       "      <td>2433.451109</td>\n",
       "      <td>2168.180764</td>\n",
       "      <td>-1104.842284</td>\n",
       "      <td>78.651451</td>\n",
       "      <td>NaN</td>\n",
       "      <td>NaN</td>\n",
       "      <td>NaN</td>\n",
       "      <td>1978ApJS...38..309H</td>\n",
       "    </tr>\n",
       "    <tr>\n",
       "      <th>2556</th>\n",
       "      <td>ob association</td>\n",
       "      <td>SCO OB2</td>\n",
       "      <td>352.812175</td>\n",
       "      <td>20.187286</td>\n",
       "      <td>118.045824</td>\n",
       "      <td>117.118139</td>\n",
       "      <td>-14.770179</td>\n",
       "      <td>43.402669</td>\n",
       "      <td>NaN</td>\n",
       "      <td>NaN</td>\n",
       "      <td>NaN</td>\n",
       "      <td>1978ApJS...38..309H</td>\n",
       "    </tr>\n",
       "  </tbody>\n",
       "</table>\n",
       "<p>2557 rows × 12 columns</p>\n",
       "</div>"
      ],
      "text/plain": [
       "                type           name        glon       glat  \\\n",
       "0              maser  G351.44+00.65  351.440000   0.650000   \n",
       "1              maser  G011.49-01.48   11.490000  -1.480000   \n",
       "2              maser  G014.33-00.64   14.330000  -0.640000   \n",
       "3              maser  G014.63-00.57   14.630000  -0.570000   \n",
       "4              maser  G015.03-00.67   15.030000  -0.670000   \n",
       "...              ...            ...         ...        ...   \n",
       "2552  ob association        SCO OB1  343.464464   1.389996   \n",
       "2553  ob association      HD 156154  351.196497   1.369037   \n",
       "2554  ob association        SCO OB4  352.465040   3.119684   \n",
       "2555  ob association          R 105  332.997923   1.851210   \n",
       "2556  ob association        SCO OB2  352.812175  20.187286   \n",
       "\n",
       "      distance (parsecs)  x (parsecs)  y (parsecs)  z (parsecs)  \\\n",
       "0            1329.000000  1314.111083  -197.802309    15.076703   \n",
       "1            1250.000000  1224.540716   248.913063   -32.285001   \n",
       "2            1119.000000  1084.116100   276.942332   -12.499090   \n",
       "3            1831.000000  1771.545918   462.443798   -18.215177   \n",
       "4            2004.000000  1935.311186   519.651302   -23.433653   \n",
       "...                  ...          ...          ...          ...   \n",
       "2552         1529.261420  1466.016362  -435.243053    37.107179   \n",
       "2553         1489.704232  1472.154067  -227.993641    35.602076   \n",
       "2554         1128.317216  1118.574236  -147.957489    61.496259   \n",
       "2555         2433.451109  2168.180764 -1104.842284    78.651451   \n",
       "2556          118.045824   117.118139   -14.770179    43.402669   \n",
       "\n",
       "      radius (parsecs) log10 age (years) Arm (masers)               Source  \n",
       "0                  NaN               NaN          Sgr  2019ApJ...874...94W  \n",
       "1                  NaN               NaN          Sgr  2019ApJ...874...94W  \n",
       "2                  NaN               NaN          Sgr  2019ApJ...874...94W  \n",
       "3                  NaN               NaN          Sgr  2019ApJ...874...94W  \n",
       "4                  NaN               NaN          Sgr  2019ApJ...874...94W  \n",
       "...                ...               ...          ...                  ...  \n",
       "2552               NaN               NaN          NaN  1978ApJS...38..309H  \n",
       "2553               NaN               NaN          NaN  1978ApJS...38..309H  \n",
       "2554               NaN               NaN          NaN  1978ApJS...38..309H  \n",
       "2555               NaN               NaN          NaN  1978ApJS...38..309H  \n",
       "2556               NaN               NaN          NaN  1978ApJS...38..309H  \n",
       "\n",
       "[2557 rows x 12 columns]"
      ]
     },
     "execution_count": 3,
     "metadata": {},
     "output_type": "execute_result"
    }
   ],
   "source": [
    "star"
   ]
  },
  {
   "cell_type": "code",
   "execution_count": 4,
   "metadata": {},
   "outputs": [],
   "source": [
    "star = star[['type','name', 'distance (parsecs)']]"
   ]
  },
  {
   "cell_type": "code",
   "execution_count": 5,
   "metadata": {},
   "outputs": [
    {
     "data": {
      "text/plain": [
       "type                  0\n",
       "name                  0\n",
       "distance (parsecs)    0\n",
       "dtype: int64"
      ]
     },
     "execution_count": 5,
     "metadata": {},
     "output_type": "execute_result"
    }
   ],
   "source": [
    "star.isna().sum()"
   ]
  },
  {
   "cell_type": "markdown",
   "metadata": {},
   "source": [
    "Data tidak memiliki data NaN dari 2557 data yang tersedia."
   ]
  },
  {
   "cell_type": "code",
   "execution_count": 6,
   "metadata": {},
   "outputs": [],
   "source": [
    "df_new = star.copy()"
   ]
  },
  {
   "cell_type": "markdown",
   "metadata": {},
   "source": [
    "Setelah mengubah data dari list (dengan setiap panjang data ialah 2557) akan dimasukkan kedalam dataframe dalam bentuk dictionary dengan variable \"astronom\""
   ]
  },
  {
   "cell_type": "markdown",
   "metadata": {},
   "source": [
    "### Prepration Dataframe for modeling"
   ]
  },
  {
   "cell_type": "code",
   "execution_count": 7,
   "metadata": {},
   "outputs": [],
   "source": [
    "typee = df_new['type'].to_list()\n",
    "name = df_new['name'].to_list()\n",
    "distance = df_new['distance (parsecs)'].to_list()"
   ]
  },
  {
   "cell_type": "code",
   "execution_count": 8,
   "metadata": {},
   "outputs": [
    {
     "name": "stdout",
     "output_type": "stream",
     "text": [
      "2557\n",
      "2557\n",
      "2557\n"
     ]
    }
   ],
   "source": [
    "print(len(typee))\n",
    "print(len(name))\n",
    "print(len(distance))"
   ]
  },
  {
   "cell_type": "code",
   "execution_count": 9,
   "metadata": {},
   "outputs": [],
   "source": [
    "astronom = pd.DataFrame({\n",
    "    'type' : typee,\n",
    "    'name' : name,\n",
    "    'distance' : distance\n",
    "})"
   ]
  },
  {
   "cell_type": "code",
   "execution_count": 10,
   "metadata": {},
   "outputs": [
    {
     "data": {
      "text/html": [
       "<div>\n",
       "<style scoped>\n",
       "    .dataframe tbody tr th:only-of-type {\n",
       "        vertical-align: middle;\n",
       "    }\n",
       "\n",
       "    .dataframe tbody tr th {\n",
       "        vertical-align: top;\n",
       "    }\n",
       "\n",
       "    .dataframe thead th {\n",
       "        text-align: right;\n",
       "    }\n",
       "</style>\n",
       "<table border=\"1\" class=\"dataframe\">\n",
       "  <thead>\n",
       "    <tr style=\"text-align: right;\">\n",
       "      <th></th>\n",
       "      <th>type</th>\n",
       "      <th>name</th>\n",
       "      <th>distance</th>\n",
       "    </tr>\n",
       "  </thead>\n",
       "  <tbody>\n",
       "    <tr>\n",
       "      <th>0</th>\n",
       "      <td>maser</td>\n",
       "      <td>G351.44+00.65</td>\n",
       "      <td>1329.000000</td>\n",
       "    </tr>\n",
       "    <tr>\n",
       "      <th>1</th>\n",
       "      <td>maser</td>\n",
       "      <td>G011.49-01.48</td>\n",
       "      <td>1250.000000</td>\n",
       "    </tr>\n",
       "    <tr>\n",
       "      <th>2</th>\n",
       "      <td>maser</td>\n",
       "      <td>G014.33-00.64</td>\n",
       "      <td>1119.000000</td>\n",
       "    </tr>\n",
       "    <tr>\n",
       "      <th>3</th>\n",
       "      <td>maser</td>\n",
       "      <td>G014.63-00.57</td>\n",
       "      <td>1831.000000</td>\n",
       "    </tr>\n",
       "    <tr>\n",
       "      <th>4</th>\n",
       "      <td>maser</td>\n",
       "      <td>G015.03-00.67</td>\n",
       "      <td>2004.000000</td>\n",
       "    </tr>\n",
       "    <tr>\n",
       "      <th>...</th>\n",
       "      <td>...</td>\n",
       "      <td>...</td>\n",
       "      <td>...</td>\n",
       "    </tr>\n",
       "    <tr>\n",
       "      <th>2552</th>\n",
       "      <td>ob association</td>\n",
       "      <td>SCO OB1</td>\n",
       "      <td>1529.261420</td>\n",
       "    </tr>\n",
       "    <tr>\n",
       "      <th>2553</th>\n",
       "      <td>ob association</td>\n",
       "      <td>HD 156154</td>\n",
       "      <td>1489.704232</td>\n",
       "    </tr>\n",
       "    <tr>\n",
       "      <th>2554</th>\n",
       "      <td>ob association</td>\n",
       "      <td>SCO OB4</td>\n",
       "      <td>1128.317216</td>\n",
       "    </tr>\n",
       "    <tr>\n",
       "      <th>2555</th>\n",
       "      <td>ob association</td>\n",
       "      <td>R 105</td>\n",
       "      <td>2433.451109</td>\n",
       "    </tr>\n",
       "    <tr>\n",
       "      <th>2556</th>\n",
       "      <td>ob association</td>\n",
       "      <td>SCO OB2</td>\n",
       "      <td>118.045824</td>\n",
       "    </tr>\n",
       "  </tbody>\n",
       "</table>\n",
       "<p>2557 rows × 3 columns</p>\n",
       "</div>"
      ],
      "text/plain": [
       "                type           name     distance\n",
       "0              maser  G351.44+00.65  1329.000000\n",
       "1              maser  G011.49-01.48  1250.000000\n",
       "2              maser  G014.33-00.64  1119.000000\n",
       "3              maser  G014.63-00.57  1831.000000\n",
       "4              maser  G015.03-00.67  2004.000000\n",
       "...              ...            ...          ...\n",
       "2552  ob association        SCO OB1  1529.261420\n",
       "2553  ob association      HD 156154  1489.704232\n",
       "2554  ob association        SCO OB4  1128.317216\n",
       "2555  ob association          R 105  2433.451109\n",
       "2556  ob association        SCO OB2   118.045824\n",
       "\n",
       "[2557 rows x 3 columns]"
      ]
     },
     "execution_count": 10,
     "metadata": {},
     "output_type": "execute_result"
    }
   ],
   "source": [
    "astronom"
   ]
  },
  {
   "cell_type": "markdown",
   "metadata": {},
   "source": [
    "### TF-IDF dan Cosine Similarity"
   ]
  },
  {
   "cell_type": "markdown",
   "metadata": {},
   "source": [
    "Disini akan melakukan **TF-IDF** untuk menghitung bobot dari setiap tipe menggunakan library sklearn"
   ]
  },
  {
   "cell_type": "code",
   "execution_count": 11,
   "metadata": {},
   "outputs": [],
   "source": [
    "from sklearn.feature_extraction.text import TfidfVectorizer"
   ]
  },
  {
   "cell_type": "markdown",
   "metadata": {},
   "source": [
    "Membuat variable baru dengan nama data yang menyimpan dataframe sebelumnya dan variable **tf** sebagai fungsi TF-IDF"
   ]
  },
  {
   "cell_type": "code",
   "execution_count": 12,
   "metadata": {},
   "outputs": [],
   "source": [
    "data = astronom"
   ]
  },
  {
   "cell_type": "code",
   "execution_count": 13,
   "metadata": {},
   "outputs": [],
   "source": [
    "tf = TfidfVectorizer()"
   ]
  },
  {
   "cell_type": "markdown",
   "metadata": {},
   "source": [
    "Melakukan extract dan get feature dari tipe planet yang ada pada data"
   ]
  },
  {
   "cell_type": "code",
   "execution_count": 14,
   "metadata": {},
   "outputs": [
    {
     "name": "stderr",
     "output_type": "stream",
     "text": [
      "C:\\Users\\adiba\\anaconda3\\lib\\site-packages\\sklearn\\utils\\deprecation.py:87: FutureWarning: Function get_feature_names is deprecated; get_feature_names is deprecated in 1.0 and will be removed in 1.2. Please use get_feature_names_out instead.\n",
      "  warnings.warn(msg, category=FutureWarning)\n"
     ]
    },
    {
     "data": {
      "text/plain": [
       "['association', 'cluster', 'hii', 'maser', 'ob', 'open', 'region']"
      ]
     },
     "execution_count": 14,
     "metadata": {},
     "output_type": "execute_result"
    }
   ],
   "source": [
    "tf.fit(data['type'])\n",
    "\n",
    "tf.get_feature_names()"
   ]
  },
  {
   "cell_type": "markdown",
   "metadata": {},
   "source": [
    "Setelah melakukan get feature yang tersedia, maka ditransformasikan menjadi kolom dan apabila di shape akan mendapatkan menjadi 2557 baris dan 7 kolom"
   ]
  },
  {
   "cell_type": "code",
   "execution_count": 15,
   "metadata": {},
   "outputs": [
    {
     "data": {
      "text/plain": [
       "(2557, 7)"
      ]
     },
     "execution_count": 15,
     "metadata": {},
     "output_type": "execute_result"
    }
   ],
   "source": [
    "tfidf_matrix = tf.fit_transform(data['type'])\n",
    "\n",
    "tfidf_matrix.shape"
   ]
  },
  {
   "cell_type": "code",
   "execution_count": 16,
   "metadata": {},
   "outputs": [
    {
     "data": {
      "text/plain": [
       "matrix([[0.        , 0.        , 0.        , ..., 0.        , 0.        ,\n",
       "         0.        ],\n",
       "        [0.        , 0.        , 0.        , ..., 0.        , 0.        ,\n",
       "         0.        ],\n",
       "        [0.        , 0.        , 0.        , ..., 0.        , 0.        ,\n",
       "         0.        ],\n",
       "        ...,\n",
       "        [0.70710678, 0.        , 0.        , ..., 0.70710678, 0.        ,\n",
       "         0.        ],\n",
       "        [0.70710678, 0.        , 0.        , ..., 0.70710678, 0.        ,\n",
       "         0.        ],\n",
       "        [0.70710678, 0.        , 0.        , ..., 0.70710678, 0.        ,\n",
       "         0.        ]])"
      ]
     },
     "execution_count": 16,
     "metadata": {},
     "output_type": "execute_result"
    }
   ],
   "source": [
    "tfidf_matrix.todense()"
   ]
  },
  {
   "cell_type": "code",
   "execution_count": 17,
   "metadata": {},
   "outputs": [
    {
     "data": {
      "text/html": [
       "<div>\n",
       "<style scoped>\n",
       "    .dataframe tbody tr th:only-of-type {\n",
       "        vertical-align: middle;\n",
       "    }\n",
       "\n",
       "    .dataframe tbody tr th {\n",
       "        vertical-align: top;\n",
       "    }\n",
       "\n",
       "    .dataframe thead th {\n",
       "        text-align: right;\n",
       "    }\n",
       "</style>\n",
       "<table border=\"1\" class=\"dataframe\">\n",
       "  <thead>\n",
       "    <tr style=\"text-align: right;\">\n",
       "      <th></th>\n",
       "      <th>association</th>\n",
       "      <th>cluster</th>\n",
       "      <th>hii</th>\n",
       "      <th>maser</th>\n",
       "      <th>ob</th>\n",
       "      <th>open</th>\n",
       "      <th>region</th>\n",
       "    </tr>\n",
       "    <tr>\n",
       "      <th>name</th>\n",
       "      <th></th>\n",
       "      <th></th>\n",
       "      <th></th>\n",
       "      <th></th>\n",
       "      <th></th>\n",
       "      <th></th>\n",
       "      <th></th>\n",
       "    </tr>\n",
       "  </thead>\n",
       "  <tbody>\n",
       "    <tr>\n",
       "      <th>G351.44+00.65</th>\n",
       "      <td>0.000000</td>\n",
       "      <td>0.0</td>\n",
       "      <td>0.0</td>\n",
       "      <td>1.0</td>\n",
       "      <td>0.000000</td>\n",
       "      <td>0.0</td>\n",
       "      <td>0.0</td>\n",
       "    </tr>\n",
       "    <tr>\n",
       "      <th>G011.49-01.48</th>\n",
       "      <td>0.000000</td>\n",
       "      <td>0.0</td>\n",
       "      <td>0.0</td>\n",
       "      <td>1.0</td>\n",
       "      <td>0.000000</td>\n",
       "      <td>0.0</td>\n",
       "      <td>0.0</td>\n",
       "    </tr>\n",
       "    <tr>\n",
       "      <th>G014.33-00.64</th>\n",
       "      <td>0.000000</td>\n",
       "      <td>0.0</td>\n",
       "      <td>0.0</td>\n",
       "      <td>1.0</td>\n",
       "      <td>0.000000</td>\n",
       "      <td>0.0</td>\n",
       "      <td>0.0</td>\n",
       "    </tr>\n",
       "    <tr>\n",
       "      <th>G014.63-00.57</th>\n",
       "      <td>0.000000</td>\n",
       "      <td>0.0</td>\n",
       "      <td>0.0</td>\n",
       "      <td>1.0</td>\n",
       "      <td>0.000000</td>\n",
       "      <td>0.0</td>\n",
       "      <td>0.0</td>\n",
       "    </tr>\n",
       "    <tr>\n",
       "      <th>G015.03-00.67</th>\n",
       "      <td>0.000000</td>\n",
       "      <td>0.0</td>\n",
       "      <td>0.0</td>\n",
       "      <td>1.0</td>\n",
       "      <td>0.000000</td>\n",
       "      <td>0.0</td>\n",
       "      <td>0.0</td>\n",
       "    </tr>\n",
       "    <tr>\n",
       "      <th>...</th>\n",
       "      <td>...</td>\n",
       "      <td>...</td>\n",
       "      <td>...</td>\n",
       "      <td>...</td>\n",
       "      <td>...</td>\n",
       "      <td>...</td>\n",
       "      <td>...</td>\n",
       "    </tr>\n",
       "    <tr>\n",
       "      <th>SCO OB1</th>\n",
       "      <td>0.707107</td>\n",
       "      <td>0.0</td>\n",
       "      <td>0.0</td>\n",
       "      <td>0.0</td>\n",
       "      <td>0.707107</td>\n",
       "      <td>0.0</td>\n",
       "      <td>0.0</td>\n",
       "    </tr>\n",
       "    <tr>\n",
       "      <th>HD 156154</th>\n",
       "      <td>0.707107</td>\n",
       "      <td>0.0</td>\n",
       "      <td>0.0</td>\n",
       "      <td>0.0</td>\n",
       "      <td>0.707107</td>\n",
       "      <td>0.0</td>\n",
       "      <td>0.0</td>\n",
       "    </tr>\n",
       "    <tr>\n",
       "      <th>SCO OB4</th>\n",
       "      <td>0.707107</td>\n",
       "      <td>0.0</td>\n",
       "      <td>0.0</td>\n",
       "      <td>0.0</td>\n",
       "      <td>0.707107</td>\n",
       "      <td>0.0</td>\n",
       "      <td>0.0</td>\n",
       "    </tr>\n",
       "    <tr>\n",
       "      <th>R 105</th>\n",
       "      <td>0.707107</td>\n",
       "      <td>0.0</td>\n",
       "      <td>0.0</td>\n",
       "      <td>0.0</td>\n",
       "      <td>0.707107</td>\n",
       "      <td>0.0</td>\n",
       "      <td>0.0</td>\n",
       "    </tr>\n",
       "    <tr>\n",
       "      <th>SCO OB2</th>\n",
       "      <td>0.707107</td>\n",
       "      <td>0.0</td>\n",
       "      <td>0.0</td>\n",
       "      <td>0.0</td>\n",
       "      <td>0.707107</td>\n",
       "      <td>0.0</td>\n",
       "      <td>0.0</td>\n",
       "    </tr>\n",
       "  </tbody>\n",
       "</table>\n",
       "<p>2557 rows × 7 columns</p>\n",
       "</div>"
      ],
      "text/plain": [
       "               association  cluster  hii  maser        ob  open  region\n",
       "name                                                                   \n",
       "G351.44+00.65     0.000000      0.0  0.0    1.0  0.000000   0.0     0.0\n",
       "G011.49-01.48     0.000000      0.0  0.0    1.0  0.000000   0.0     0.0\n",
       "G014.33-00.64     0.000000      0.0  0.0    1.0  0.000000   0.0     0.0\n",
       "G014.63-00.57     0.000000      0.0  0.0    1.0  0.000000   0.0     0.0\n",
       "G015.03-00.67     0.000000      0.0  0.0    1.0  0.000000   0.0     0.0\n",
       "...                    ...      ...  ...    ...       ...   ...     ...\n",
       "SCO OB1           0.707107      0.0  0.0    0.0  0.707107   0.0     0.0\n",
       "HD 156154         0.707107      0.0  0.0    0.0  0.707107   0.0     0.0\n",
       "SCO OB4           0.707107      0.0  0.0    0.0  0.707107   0.0     0.0\n",
       "R 105             0.707107      0.0  0.0    0.0  0.707107   0.0     0.0\n",
       "SCO OB2           0.707107      0.0  0.0    0.0  0.707107   0.0     0.0\n",
       "\n",
       "[2557 rows x 7 columns]"
      ]
     },
     "execution_count": 17,
     "metadata": {},
     "output_type": "execute_result"
    }
   ],
   "source": [
    "pd.DataFrame(\n",
    "            tfidf_matrix.todense(),\n",
    "            columns=tf.get_feature_names(),\n",
    "            index = data.name\n",
    "            )"
   ]
  },
  {
   "cell_type": "code",
   "execution_count": 18,
   "metadata": {},
   "outputs": [],
   "source": [
    "from sklearn.metrics.pairwise import cosine_similarity"
   ]
  },
  {
   "cell_type": "code",
   "execution_count": 19,
   "metadata": {},
   "outputs": [
    {
     "data": {
      "text/plain": [
       "array([[1., 1., 1., ..., 0., 0., 0.],\n",
       "       [1., 1., 1., ..., 0., 0., 0.],\n",
       "       [1., 1., 1., ..., 0., 0., 0.],\n",
       "       ...,\n",
       "       [0., 0., 0., ..., 1., 1., 1.],\n",
       "       [0., 0., 0., ..., 1., 1., 1.],\n",
       "       [0., 0., 0., ..., 1., 1., 1.]])"
      ]
     },
     "execution_count": 19,
     "metadata": {},
     "output_type": "execute_result"
    }
   ],
   "source": [
    "cosine_sim = cosine_similarity(tf.fit_transform(data['type']))\n",
    "cosine_sim"
   ]
  },
  {
   "cell_type": "code",
   "execution_count": 20,
   "metadata": {
    "scrolled": true
   },
   "outputs": [
    {
     "name": "stdout",
     "output_type": "stream",
     "text": [
      "Shape: (2557, 2557)\n"
     ]
    }
   ],
   "source": [
    "cosine_sim_df = pd.DataFrame(cosine_sim, columns = data['name'], index = data['name'])\n",
    "print('Shape:', cosine_sim_df.shape)"
   ]
  },
  {
   "cell_type": "code",
   "execution_count": 21,
   "metadata": {},
   "outputs": [
    {
     "data": {
      "text/html": [
       "<div>\n",
       "<style scoped>\n",
       "    .dataframe tbody tr th:only-of-type {\n",
       "        vertical-align: middle;\n",
       "    }\n",
       "\n",
       "    .dataframe tbody tr th {\n",
       "        vertical-align: top;\n",
       "    }\n",
       "\n",
       "    .dataframe thead th {\n",
       "        text-align: right;\n",
       "    }\n",
       "</style>\n",
       "<table border=\"1\" class=\"dataframe\">\n",
       "  <thead>\n",
       "    <tr style=\"text-align: right;\">\n",
       "      <th>name</th>\n",
       "      <th>King_15</th>\n",
       "      <th>Collinder_261</th>\n",
       "      <th>UBC 106</th>\n",
       "      <th>Czernik_30</th>\n",
       "      <th>Gulliver_7</th>\n",
       "      <th>Ferrero_1</th>\n",
       "      <th>UPK_45</th>\n",
       "      <th>Liu_Pang_2198</th>\n",
       "      <th>UBC 655</th>\n",
       "      <th>NGC_2428</th>\n",
       "    </tr>\n",
       "    <tr>\n",
       "      <th>name</th>\n",
       "      <th></th>\n",
       "      <th></th>\n",
       "      <th></th>\n",
       "      <th></th>\n",
       "      <th></th>\n",
       "      <th></th>\n",
       "      <th></th>\n",
       "      <th></th>\n",
       "      <th></th>\n",
       "      <th></th>\n",
       "    </tr>\n",
       "  </thead>\n",
       "  <tbody>\n",
       "    <tr>\n",
       "      <th>NGC_129</th>\n",
       "      <td>1.0</td>\n",
       "      <td>1.0</td>\n",
       "      <td>1.0</td>\n",
       "      <td>1.0</td>\n",
       "      <td>1.0</td>\n",
       "      <td>1.0</td>\n",
       "      <td>1.0</td>\n",
       "      <td>1.0</td>\n",
       "      <td>1.0</td>\n",
       "      <td>1.0</td>\n",
       "    </tr>\n",
       "    <tr>\n",
       "      <th>UBC 539</th>\n",
       "      <td>1.0</td>\n",
       "      <td>1.0</td>\n",
       "      <td>1.0</td>\n",
       "      <td>1.0</td>\n",
       "      <td>1.0</td>\n",
       "      <td>1.0</td>\n",
       "      <td>1.0</td>\n",
       "      <td>1.0</td>\n",
       "      <td>1.0</td>\n",
       "      <td>1.0</td>\n",
       "    </tr>\n",
       "    <tr>\n",
       "      <th>UBC 341</th>\n",
       "      <td>1.0</td>\n",
       "      <td>1.0</td>\n",
       "      <td>1.0</td>\n",
       "      <td>1.0</td>\n",
       "      <td>1.0</td>\n",
       "      <td>1.0</td>\n",
       "      <td>1.0</td>\n",
       "      <td>1.0</td>\n",
       "      <td>1.0</td>\n",
       "      <td>1.0</td>\n",
       "    </tr>\n",
       "    <tr>\n",
       "      <th>Sh 2-30 (Trifid nebula | Messier 20)</th>\n",
       "      <td>0.0</td>\n",
       "      <td>0.0</td>\n",
       "      <td>0.0</td>\n",
       "      <td>0.0</td>\n",
       "      <td>0.0</td>\n",
       "      <td>0.0</td>\n",
       "      <td>0.0</td>\n",
       "      <td>0.0</td>\n",
       "      <td>0.0</td>\n",
       "      <td>0.0</td>\n",
       "    </tr>\n",
       "    <tr>\n",
       "      <th>UBC 642</th>\n",
       "      <td>1.0</td>\n",
       "      <td>1.0</td>\n",
       "      <td>1.0</td>\n",
       "      <td>1.0</td>\n",
       "      <td>1.0</td>\n",
       "      <td>1.0</td>\n",
       "      <td>1.0</td>\n",
       "      <td>1.0</td>\n",
       "      <td>1.0</td>\n",
       "      <td>1.0</td>\n",
       "    </tr>\n",
       "  </tbody>\n",
       "</table>\n",
       "</div>"
      ],
      "text/plain": [
       "name                                  King_15  Collinder_261  UBC 106  \\\n",
       "name                                                                    \n",
       "NGC_129                                   1.0            1.0      1.0   \n",
       "UBC 539                                   1.0            1.0      1.0   \n",
       "UBC 341                                   1.0            1.0      1.0   \n",
       "Sh 2-30 (Trifid nebula | Messier 20)      0.0            0.0      0.0   \n",
       "UBC 642                                   1.0            1.0      1.0   \n",
       "\n",
       "name                                  Czernik_30  Gulliver_7  Ferrero_1  \\\n",
       "name                                                                      \n",
       "NGC_129                                      1.0         1.0        1.0   \n",
       "UBC 539                                      1.0         1.0        1.0   \n",
       "UBC 341                                      1.0         1.0        1.0   \n",
       "Sh 2-30 (Trifid nebula | Messier 20)         0.0         0.0        0.0   \n",
       "UBC 642                                      1.0         1.0        1.0   \n",
       "\n",
       "name                                  UPK_45  Liu_Pang_2198  UBC 655  NGC_2428  \n",
       "name                                                                            \n",
       "NGC_129                                  1.0            1.0      1.0       1.0  \n",
       "UBC 539                                  1.0            1.0      1.0       1.0  \n",
       "UBC 341                                  1.0            1.0      1.0       1.0  \n",
       "Sh 2-30 (Trifid nebula | Messier 20)     0.0            0.0      0.0       0.0  \n",
       "UBC 642                                  1.0            1.0      1.0       1.0  "
      ]
     },
     "execution_count": 21,
     "metadata": {},
     "output_type": "execute_result"
    }
   ],
   "source": [
    "cosine_sim_df.sample(10, axis=1).sample(5, axis=0)"
   ]
  },
  {
   "cell_type": "markdown",
   "metadata": {},
   "source": [
    "# Modeling "
   ]
  },
  {
   "cell_type": "code",
   "execution_count": 22,
   "metadata": {},
   "outputs": [],
   "source": [
    "def planet_recommendations(name, similarity_data=cosine_sim_df, items= data[['name', 'type', 'distance']], k=10):\n",
    "    index = similarity_data.loc[:,name].to_numpy().argpartition(\n",
    "        range(-1, -k, -1))\n",
    "    \n",
    "    closest = similarity_data.columns[index[-1:-(k+2):-1]]\n",
    "    \n",
    "    closest = closest.drop(name, errors='ignore')\n",
    "    \n",
    "    return pd.DataFrame(closest).merge(items).head(k)"
   ]
  },
  {
   "cell_type": "code",
   "execution_count": 23,
   "metadata": {},
   "outputs": [
    {
     "data": {
      "text/html": [
       "<div>\n",
       "<style scoped>\n",
       "    .dataframe tbody tr th:only-of-type {\n",
       "        vertical-align: middle;\n",
       "    }\n",
       "\n",
       "    .dataframe tbody tr th {\n",
       "        vertical-align: top;\n",
       "    }\n",
       "\n",
       "    .dataframe thead th {\n",
       "        text-align: right;\n",
       "    }\n",
       "</style>\n",
       "<table border=\"1\" class=\"dataframe\">\n",
       "  <thead>\n",
       "    <tr style=\"text-align: right;\">\n",
       "      <th></th>\n",
       "      <th>type</th>\n",
       "      <th>name</th>\n",
       "      <th>distance</th>\n",
       "    </tr>\n",
       "  </thead>\n",
       "  <tbody>\n",
       "    <tr>\n",
       "      <th>1735</th>\n",
       "      <td>open cluster</td>\n",
       "      <td>UBC 119</td>\n",
       "      <td>1781.261133</td>\n",
       "    </tr>\n",
       "  </tbody>\n",
       "</table>\n",
       "</div>"
      ],
      "text/plain": [
       "              type     name     distance\n",
       "1735  open cluster  UBC 119  1781.261133"
      ]
     },
     "execution_count": 23,
     "metadata": {},
     "output_type": "execute_result"
    }
   ],
   "source": [
    "data[data.name.eq('UBC 119')]"
   ]
  },
  {
   "cell_type": "markdown",
   "metadata": {},
   "source": [
    "# Evaluation"
   ]
  },
  {
   "cell_type": "code",
   "execution_count": 24,
   "metadata": {},
   "outputs": [
    {
     "data": {
      "text/html": [
       "<div>\n",
       "<style scoped>\n",
       "    .dataframe tbody tr th:only-of-type {\n",
       "        vertical-align: middle;\n",
       "    }\n",
       "\n",
       "    .dataframe tbody tr th {\n",
       "        vertical-align: top;\n",
       "    }\n",
       "\n",
       "    .dataframe thead th {\n",
       "        text-align: right;\n",
       "    }\n",
       "</style>\n",
       "<table border=\"1\" class=\"dataframe\">\n",
       "  <thead>\n",
       "    <tr style=\"text-align: right;\">\n",
       "      <th></th>\n",
       "      <th>name</th>\n",
       "      <th>type</th>\n",
       "      <th>distance</th>\n",
       "    </tr>\n",
       "  </thead>\n",
       "  <tbody>\n",
       "    <tr>\n",
       "      <th>0</th>\n",
       "      <td>Skiff_J0614+12.9</td>\n",
       "      <td>open cluster</td>\n",
       "      <td>3601.6</td>\n",
       "    </tr>\n",
       "    <tr>\n",
       "      <th>1</th>\n",
       "      <td>NGC_6791</td>\n",
       "      <td>open cluster</td>\n",
       "      <td>4530.8</td>\n",
       "    </tr>\n",
       "    <tr>\n",
       "      <th>2</th>\n",
       "      <td>NGC_6756</td>\n",
       "      <td>open cluster</td>\n",
       "      <td>3220.6</td>\n",
       "    </tr>\n",
       "    <tr>\n",
       "      <th>3</th>\n",
       "      <td>NGC_6755</td>\n",
       "      <td>open cluster</td>\n",
       "      <td>2471.2</td>\n",
       "    </tr>\n",
       "    <tr>\n",
       "      <th>4</th>\n",
       "      <td>NGC_6735</td>\n",
       "      <td>open cluster</td>\n",
       "      <td>2247.9</td>\n",
       "    </tr>\n",
       "    <tr>\n",
       "      <th>5</th>\n",
       "      <td>NGC_6728</td>\n",
       "      <td>open cluster</td>\n",
       "      <td>1770.8</td>\n",
       "    </tr>\n",
       "    <tr>\n",
       "      <th>6</th>\n",
       "      <td>NGC_6793</td>\n",
       "      <td>open cluster</td>\n",
       "      <td>588.8</td>\n",
       "    </tr>\n",
       "    <tr>\n",
       "      <th>7</th>\n",
       "      <td>NGC_6709</td>\n",
       "      <td>open cluster</td>\n",
       "      <td>1064.4</td>\n",
       "    </tr>\n",
       "    <tr>\n",
       "      <th>8</th>\n",
       "      <td>NGC_6633</td>\n",
       "      <td>open cluster</td>\n",
       "      <td>391.6</td>\n",
       "    </tr>\n",
       "    <tr>\n",
       "      <th>9</th>\n",
       "      <td>NGC_6704</td>\n",
       "      <td>open cluster</td>\n",
       "      <td>2158.2</td>\n",
       "    </tr>\n",
       "  </tbody>\n",
       "</table>\n",
       "</div>"
      ],
      "text/plain": [
       "               name          type  distance\n",
       "0  Skiff_J0614+12.9  open cluster    3601.6\n",
       "1          NGC_6791  open cluster    4530.8\n",
       "2          NGC_6756  open cluster    3220.6\n",
       "3          NGC_6755  open cluster    2471.2\n",
       "4          NGC_6735  open cluster    2247.9\n",
       "5          NGC_6728  open cluster    1770.8\n",
       "6          NGC_6793  open cluster     588.8\n",
       "7          NGC_6709  open cluster    1064.4\n",
       "8          NGC_6633  open cluster     391.6\n",
       "9          NGC_6704  open cluster    2158.2"
      ]
     },
     "execution_count": 24,
     "metadata": {},
     "output_type": "execute_result"
    }
   ],
   "source": [
    "result = planet_recommendations('UBC 119')\n",
    "result"
   ]
  },
  {
   "cell_type": "code",
   "execution_count": 25,
   "metadata": {},
   "outputs": [],
   "source": [
    "relevant = len(result[result.type == 'open cluster'])\n",
    "not_relevant = len(result[~(result.type == 'open cluster')])\n",
    "items_total = len(result.type)"
   ]
  },
  {
   "cell_type": "code",
   "execution_count": 26,
   "metadata": {},
   "outputs": [
    {
     "name": "stdout",
     "output_type": "stream",
     "text": [
      "Accuracy: 100%\n",
      "Precision: 100%\n",
      "Recall: 100%\n"
     ]
    }
   ],
   "source": [
    "accuracy = ((relevant + not_relevant)/items_total) * 100\n",
    "precision = (relevant / items_total) * 100\n",
    "recall = (relevant/(relevant + not_relevant)) * 100\n",
    "\n",
    "print('Accuracy: {}%'.format(round(accuracy),0))\n",
    "print('Precision: {}%'.format(round(precision),0))\n",
    "print('Recall: {}%'.format(round(recall),0))"
   ]
  }
 ],
 "metadata": {
  "kernelspec": {
   "display_name": "Python 3",
   "language": "python",
   "name": "python3"
  },
  "language_info": {
   "codemirror_mode": {
    "name": "ipython",
    "version": 3
   },
   "file_extension": ".py",
   "mimetype": "text/x-python",
   "name": "python",
   "nbconvert_exporter": "python",
   "pygments_lexer": "ipython3",
   "version": "3.8.5"
  }
 },
 "nbformat": 4,
 "nbformat_minor": 4
}
